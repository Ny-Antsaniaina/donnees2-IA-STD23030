{
 "cells": [
  {
   "cell_type": "code",
   "execution_count": 13,
   "id": "initial_id",
   "metadata": {},
   "outputs": [
    {
     "data": {
      "text/html": [
       "<div>\n",
       "<style scoped>\n",
       "    .dataframe tbody tr th:only-of-type {\n",
       "        vertical-align: middle;\n",
       "    }\n",
       "\n",
       "    .dataframe tbody tr th {\n",
       "        vertical-align: top;\n",
       "    }\n",
       "\n",
       "    .dataframe thead th {\n",
       "        text-align: right;\n",
       "    }\n",
       "</style>\n",
       "<table border=\"1\" class=\"dataframe\">\n",
       "  <thead>\n",
       "    <tr style=\"text-align: right;\">\n",
       "      <th></th>\n",
       "      <th>ville</th>\n",
       "      <th>date</th>\n",
       "      <th>temp</th>\n",
       "      <th>is_rainy</th>\n",
       "      <th>day</th>\n",
       "      <th>month</th>\n",
       "      <th>year</th>\n",
       "    </tr>\n",
       "  </thead>\n",
       "  <tbody>\n",
       "    <tr>\n",
       "      <th>0</th>\n",
       "      <td>Antananarivo</td>\n",
       "      <td>2025-06-29 21:00:00</td>\n",
       "      <td>12.98</td>\n",
       "      <td>0</td>\n",
       "      <td>2025-06-29</td>\n",
       "      <td>6</td>\n",
       "      <td>2025</td>\n",
       "    </tr>\n",
       "    <tr>\n",
       "      <th>1</th>\n",
       "      <td>Antananarivo</td>\n",
       "      <td>2025-06-30 00:00:00</td>\n",
       "      <td>11.49</td>\n",
       "      <td>0</td>\n",
       "      <td>2025-06-30</td>\n",
       "      <td>6</td>\n",
       "      <td>2025</td>\n",
       "    </tr>\n",
       "    <tr>\n",
       "      <th>2</th>\n",
       "      <td>Antananarivo</td>\n",
       "      <td>2025-06-30 03:00:00</td>\n",
       "      <td>8.89</td>\n",
       "      <td>0</td>\n",
       "      <td>2025-06-30</td>\n",
       "      <td>6</td>\n",
       "      <td>2025</td>\n",
       "    </tr>\n",
       "    <tr>\n",
       "      <th>3</th>\n",
       "      <td>Antananarivo</td>\n",
       "      <td>2025-06-30 06:00:00</td>\n",
       "      <td>15.21</td>\n",
       "      <td>0</td>\n",
       "      <td>2025-06-30</td>\n",
       "      <td>6</td>\n",
       "      <td>2025</td>\n",
       "    </tr>\n",
       "    <tr>\n",
       "      <th>4</th>\n",
       "      <td>Antananarivo</td>\n",
       "      <td>2025-06-30 09:00:00</td>\n",
       "      <td>22.03</td>\n",
       "      <td>0</td>\n",
       "      <td>2025-06-30</td>\n",
       "      <td>6</td>\n",
       "      <td>2025</td>\n",
       "    </tr>\n",
       "  </tbody>\n",
       "</table>\n",
       "</div>"
      ],
      "text/plain": [
       "          ville                date   temp  is_rainy         day  month  year\n",
       "0  Antananarivo 2025-06-29 21:00:00  12.98         0  2025-06-29      6  2025\n",
       "1  Antananarivo 2025-06-30 00:00:00  11.49         0  2025-06-30      6  2025\n",
       "2  Antananarivo 2025-06-30 03:00:00   8.89         0  2025-06-30      6  2025\n",
       "3  Antananarivo 2025-06-30 06:00:00  15.21         0  2025-06-30      6  2025\n",
       "4  Antananarivo 2025-06-30 09:00:00  22.03         0  2025-06-30      6  2025"
      ]
     },
     "execution_count": 13,
     "metadata": {},
     "output_type": "execute_result"
    }
   ],
   "source": [
    "# 🌦️ Analyse Exploratoire des Données Météo (EDA)\n",
    "# Ce notebook explore les données météorologiques collectées pour quatre grandes villes :\n",
    "# Antananarivo, Paris, Tokyo et London.\n",
    "# Données issues de l’API OpenWeather + historiques fusionnées.\n",
    "\n",
    "import pandas as pd\n",
    "import matplotlib.pyplot as plt\n",
    "import seaborn as sns\n",
    "sns.set(style='whitegrid')\n",
    "\n",
    "# 📥 Chargement des données\n",
    "df = pd.read_csv(\"/home/ny-antsaniaina/airflow/dags/examen/data/merge_weather.csv\")\n",
    "df['date'] = pd.to_datetime(df['date'])\n",
    "df['day'] = df['date'].dt.date\n",
    "df['month'] = df['date'].dt.month\n",
    "df['year'] = df['date'].dt.year\n",
    "df.head()\n"
   ]
  },
  {
   "cell_type": "code",
   "execution_count": 14,
   "id": "67bb584e72149321",
   "metadata": {},
   "outputs": [
    {
     "data": {
      "text/html": [
       "<div>\n",
       "<style scoped>\n",
       "    .dataframe tbody tr th:only-of-type {\n",
       "        vertical-align: middle;\n",
       "    }\n",
       "\n",
       "    .dataframe tbody tr th {\n",
       "        vertical-align: top;\n",
       "    }\n",
       "\n",
       "    .dataframe thead th {\n",
       "        text-align: right;\n",
       "    }\n",
       "</style>\n",
       "<table border=\"1\" class=\"dataframe\">\n",
       "  <thead>\n",
       "    <tr style=\"text-align: right;\">\n",
       "      <th></th>\n",
       "      <th>ville</th>\n",
       "      <th>temp_moyenne</th>\n",
       "      <th>temp_min</th>\n",
       "      <th>temp_max</th>\n",
       "      <th>ecart_type</th>\n",
       "      <th>jours_pluvieux</th>\n",
       "      <th>score_extreme</th>\n",
       "    </tr>\n",
       "  </thead>\n",
       "  <tbody>\n",
       "    <tr>\n",
       "      <th>0</th>\n",
       "      <td>Antananarivo</td>\n",
       "      <td>13.43225</td>\n",
       "      <td>7.74</td>\n",
       "      <td>22.03</td>\n",
       "      <td>3.565638</td>\n",
       "      <td>2</td>\n",
       "      <td>23.42</td>\n",
       "    </tr>\n",
       "    <tr>\n",
       "      <th>1</th>\n",
       "      <td>London</td>\n",
       "      <td>22.37825</td>\n",
       "      <td>13.91</td>\n",
       "      <td>34.11</td>\n",
       "      <td>5.304708</td>\n",
       "      <td>6</td>\n",
       "      <td>36.81</td>\n",
       "    </tr>\n",
       "    <tr>\n",
       "      <th>2</th>\n",
       "      <td>Paris</td>\n",
       "      <td>26.89425</td>\n",
       "      <td>16.16</td>\n",
       "      <td>39.76</td>\n",
       "      <td>6.275051</td>\n",
       "      <td>1</td>\n",
       "      <td>37.15</td>\n",
       "    </tr>\n",
       "    <tr>\n",
       "      <th>3</th>\n",
       "      <td>Tokyo</td>\n",
       "      <td>27.39300</td>\n",
       "      <td>24.27</td>\n",
       "      <td>32.48</td>\n",
       "      <td>2.187799</td>\n",
       "      <td>7</td>\n",
       "      <td>19.59</td>\n",
       "    </tr>\n",
       "  </tbody>\n",
       "</table>\n",
       "</div>"
      ],
      "text/plain": [
       "          ville  temp_moyenne  temp_min  temp_max  ecart_type  jours_pluvieux  \\\n",
       "0  Antananarivo      13.43225      7.74     22.03    3.565638               2   \n",
       "1        London      22.37825     13.91     34.11    5.304708               6   \n",
       "2         Paris      26.89425     16.16     39.76    6.275051               1   \n",
       "3         Tokyo      27.39300     24.27     32.48    2.187799               7   \n",
       "\n",
       "   score_extreme  \n",
       "0          23.42  \n",
       "1          36.81  \n",
       "2          37.15  \n",
       "3          19.59  "
      ]
     },
     "execution_count": 14,
     "metadata": {},
     "output_type": "execute_result"
    }
   ],
   "source": [
    "# 📊 Statistiques agrégées par ville\n",
    "summary = df.groupby('ville').agg(\n",
    "    temp_moyenne=('temp', 'mean'),\n",
    "    temp_min=('temp', 'min'),\n",
    "    temp_max=('temp', 'max'),\n",
    "    ecart_type=('temp', 'std'),\n",
    "    jours_pluvieux=('is_rainy', 'sum')\n",
    ").reset_index()\n",
    "\n",
    "summary['score_extreme'] = (\n",
    "    (summary['temp_max'] - summary['temp_min']) +\n",
    "    summary['ecart_type'] * 2 +\n",
    "    summary['jours_pluvieux']\n",
    ").round(2)\n",
    "\n",
    "summary\n"
   ]
  },
  {
   "cell_type": "code",
   "execution_count": 16,
   "id": "40d35cb09bdf61f",
   "metadata": {},
   "outputs": [
    {
     "name": "stderr",
     "output_type": "stream",
     "text": [
      "/tmp/ipykernel_14771/1855382538.py:3: FutureWarning: \n",
      "\n",
      "Passing `palette` without assigning `hue` is deprecated and will be removed in v0.14.0. Assign the `x` variable to `hue` and set `legend=False` for the same effect.\n",
      "\n",
      "  sns.barplot(data=summary, x='ville', y='temp_moyenne', palette='coolwarm')\n"
     ]
    },
    {
     "data": {
      "image/png": "[encoded data removed]",
      "text/plain": [
       "<Figure size 800x500 with 1 Axes>"
      ]
     },
     "metadata": {},
     "output_type": "display_data"
    }
   ],
   "source": [
    "# 📈 Température moyenne par ville\n",
    "plt.figure(figsize=(8,5))\n",
    "sns.barplot(data=summary, x='ville', y='temp_moyenne', palette='coolwarm')\n",
    "plt.title('Température moyenne par ville')\n",
    "plt.ylabel('Température (°C)')\n",
    "plt.show()\n"
   ]
  },
  {
   "cell_type": "code",
   "execution_count": 15,
   "id": "5983643c6e2d8df6",
   "metadata": {},
   "outputs": [
    {
     "name": "stderr",
     "output_type": "stream",
     "text": [
      "/tmp/ipykernel_14771/513285730.py:3: FutureWarning: \n",
      "\n",
      "Passing `palette` without assigning `hue` is deprecated and will be removed in v0.14.0. Assign the `x` variable to `hue` and set `legend=False` for the same effect.\n",
      "\n",
      "  sns.barplot(data=summary, x='ville', y='jours_pluvieux', palette='Blues')\n"
     ]
    },
    {
     "data": {
      "image/png": "[encoded data removed]",
      "text/plain": [
       "<Figure size 800x500 with 1 Axes>"
      ]
     },
     "metadata": {},
     "output_type": "display_data"
    }
   ],
   "source": [
    "# ☔ Nombre de jours pluvieux par ville\n",
    "plt.figure(figsize=(8,5))\n",
    "sns.barplot(data=summary, x='ville', y='jours_pluvieux', palette='Blues')\n",
    "plt.title('Nombre de jours pluvieux par ville')\n",
    "plt.ylabel('Nombre de jours')\n",
    "plt.show()\n"
   ]
  },
  {
   "cell_type": "code",
   "execution_count": null,
   "id": "86eeaf53-3d48-4544-b36c-25a2811d414f",
   "metadata": {},
   "outputs": [],
   "source": []
  }
 ],
 "metadata": {
  "kernelspec": {
   "display_name": "Python 3 (ipykernel)",
   "language": "python",
   "name": "python3"
  },
  "language_info": {
   "codemirror_mode": {
    "name": "ipython",
    "version": 3
   },
   "file_extension": ".py",
   "mimetype": "text/x-python",
   "name": "python",
   "nbconvert_exporter": "python",
   "pygments_lexer": "ipython3",
   "version": "3.12.3"
  }
 },
 "nbformat": 4,
 "nbformat_minor": 5
}
