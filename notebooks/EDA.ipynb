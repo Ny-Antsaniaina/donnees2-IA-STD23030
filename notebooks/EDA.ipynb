{
 "cells": [
  {
   "cell_type": "code",
   "execution_count": null,
   "id": "initial_id",
   "metadata": {
    "collapsed": true
   },
   "outputs": [],
   "source": [
    "# eda_weather.ipynb\n",
    "\n",
    "import pandas as pd\n",
    "import seaborn as sns\n",
    "import matplotlib.pyplot as plt\n",
    "\n",
    "df = pd.read_csv(\"data/merge_weather.csv\")\n",
    "df[\"date\"] = pd.to_datetime(df[\"date\"])\n",
    "df[\"jour\"] = df[\"date\"].dt.date\n",
    "df[\"mois\"] = df[\"date\"].dt.month\n",
    "df[\"annee\"] = df[\"date\"].dt.year\n",
    "\n",
    "# Moyenne température par ville\n",
    "sns.lineplot(data=df, x=\"date\", y=\"temp\", hue=\"ville\")\n",
    "plt.title(\"Température par ville au fil du temps\")\n",
    "plt.xticks(rotation=45)\n",
    "plt.tight_layout()\n",
    "plt.show()\n",
    "\n",
    "# Jours pluvieux par ville\n",
    "rainy_days = df[df[\"is_rainy\"] > 0].groupby(\"ville\").size().reset_index(name=\"jours_pluvieux\")\n",
    "sns.barplot(data=rainy_days, x=\"ville\", y=\"jours_pluvieux\")\n",
    "plt.title(\"Nombre de jours pluvieux par ville\")\n",
    "plt.show()\n"
   ]
  }
 ],
 "metadata": {
  "kernelspec": {
   "display_name": "Python 3",
   "language": "python",
   "name": "python3"
  },
  "language_info": {
   "codemirror_mode": {
    "name": "ipython",
    "version": 2
   },
   "file_extension": ".py",
   "mimetype": "text/x-python",
   "name": "python",
   "nbconvert_exporter": "python",
   "pygments_lexer": "ipython2",
   "version": "2.7.6"
  }
 },
 "nbformat": 4,
 "nbformat_minor": 5
}
