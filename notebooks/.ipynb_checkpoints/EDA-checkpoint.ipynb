{
 "cells": [
  {
   "cell_type": "code",
   "execution_count": null,
   "id": "initial_id",
   "metadata": {
    "collapsed": true
   },
   "outputs": [],
   "source": [
    "# 🌦️ Analyse Exploratoire des Données Météo (EDA)\n",
    "# Ce notebook explore les données météorologiques collectées pour quatre grandes villes :\n",
    "# Antananarivo, Paris, Tokyo et London.\n",
    "# Données issues de l’API OpenWeather + historiques fusionnées.\n",
    "\n",
    "import pandas as pd\n",
    "import matplotlib.pyplot as plt\n",
    "import seaborn as sns\n",
    "sns.set(style='whitegrid')\n",
    "\n",
    "# 📥 Chargement des données\n",
    "df = pd.read_csv(\"merge_weather.csv\")\n",
    "df['date'] = pd.to_datetime(df['date'])\n",
    "df['day'] = df['date'].dt.date\n",
    "df['month'] = df['date'].dt.month\n",
    "df['year'] = df['date'].dt.year\n",
    "df.head()\n"
   ]
  },
  {
   "metadata": {},
   "cell_type": "code",
   "outputs": [],
   "execution_count": null,
   "source": [
    "# 📊 Statistiques agrégées par ville\n",
    "summary = df.groupby('ville').agg(\n",
    "    temp_moyenne=('temp', 'mean'),\n",
    "    temp_min=('temp', 'min'),\n",
    "    temp_max=('temp', 'max'),\n",
    "    ecart_type=('temp', 'std'),\n",
    "    jours_pluvieux=('is_rainy', 'sum')\n",
    ").reset_index()\n",
    "\n",
    "summary['score_extreme'] = (\n",
    "    (summary['temp_max'] - summary['temp_min']) +\n",
    "    summary['ecart_type'] * 2 +\n",
    "    summary['jours_pluvieux']\n",
    ").round(2)\n",
    "\n",
    "summary\n"
   ],
   "id": "67bb584e72149321"
  },
  {
   "metadata": {},
   "cell_type": "code",
   "outputs": [],
   "execution_count": null,
   "source": [
    "# 📈 Température moyenne par ville\n",
    "plt.figure(figsize=(8,5))\n",
    "sns.barplot(data=summary, x='ville', y='temp_moyenne', palette='coolwarm')\n",
    "plt.title('Température moyenne par ville')\n",
    "plt.ylabel('Température (°C)')\n",
    "plt.show()\n"
   ],
   "id": "40d35cb09bdf61f"
  },
  {
   "metadata": {},
   "cell_type": "code",
   "outputs": [],
   "execution_count": null,
   "source": [
    "# ☔ Nombre de jours pluvieux par ville\n",
    "plt.figure(figsize=(8,5))\n",
    "sns.barplot(data=summary, x='ville', y='jours_pluvieux', palette='Blues')\n",
    "plt.title('Nombre de jours pluvieux par ville')\n",
    "plt.ylabel('Nombre de jours')\n",
    "plt.show()\n"
   ],
   "id": "5983643c6e2d8df6"
  }
 ],
 "metadata": {
  "kernelspec": {
   "display_name": "Python 3",
   "language": "python",
   "name": "python3"
  },
  "language_info": {
   "codemirror_mode": {
    "name": "ipython",
    "version": 2
   },
   "file_extension": ".py",
   "mimetype": "text/x-python",
   "name": "python",
   "nbconvert_exporter": "python",
   "pygments_lexer": "ipython2",
   "version": "2.7.6"
  }
 },
 "nbformat": 4,
 "nbformat_minor": 5
}
